{
 "cells": [
  {
   "cell_type": "code",
   "execution_count": 1,
   "metadata": {},
   "outputs": [],
   "source": [
    "%matplotlib inline\n",
    "import matplotlib.pyplot as plt, numpy as np\n",
    "from ipywidgets import interact, interactive, fixed, interact_manual\n",
    "import matplotlib as mpl\n",
    "mpl.rcParams['figure.dpi']= 80\n",
    "\n",
    "import VLEIsoTracer as vle"
   ]
  },
  {
   "cell_type": "code",
   "execution_count": 3,
   "metadata": {},
   "outputs": [
    {
     "data": {
      "application/vnd.jupyter.widget-view+json": {
       "model_id": "45c6c736ac3a402b9e07995e4658a608",
       "version_major": 2,
       "version_minor": 0
      },
      "text/plain": [
       "interactive(children=(IntSlider(value=295, description='T', max=310, min=280, step=5), FloatSlider(value=0.950…"
      ]
     },
     "metadata": {},
     "output_type": "display_data"
    }
   ],
   "source": [
    "def VLE_plot(T, betaT, gammaT, ):\n",
    "    fluids=('R134a', 'R236fa')\n",
    "    tracer = vle.VLEIsolineTracer(vle.VLEIsolineTracer.imposed_variable.IMPOSED_T, T, 'HEOS', fluids)\n",
    "    AS = tracer.get_AbstractState_pointer()\n",
    "    parameters = {'betaT': betaT, 'gammaT': gammaT, 'betaV': 1, 'gammaV': 1, 'Fij': 1}\n",
    "    for k, v in parameters.items():\n",
    "        AS.set_binary_interaction_double(0,1,k,v)\n",
    "    tracer.trace()\n",
    "    _data = tracer.get_tracer_data()\n",
    "    # Plot the data\n",
    "    x_comp1 = np.array(_data.x).T[0]\n",
    "    y_comp1 = np.array(_data.y).T[0]\n",
    "    p = np.array(_data.pL)\n",
    "    plt.plot(x_comp1, p/1e6)\n",
    "    plt.plot(y_comp1, p/1e6)\n",
    "    plt.gca().set(xlabel='$x$ / molar', ylabel='$p$ / MPa')\n",
    "    \n",
    "interactive_plot = interactive(VLE_plot, T=(280, 310, 5), betaT=(0.8,1.2,0.05), gammaT=(0.8,1.3,0.05))\n",
    "output = interactive_plot.children[-1]\n",
    "output.layout.height = '400px'\n",
    "interactive_plot"
   ]
  },
  {
   "cell_type": "code",
   "execution_count": null,
   "metadata": {},
   "outputs": [],
   "source": []
  }
 ],
 "metadata": {
  "kernelspec": {
   "display_name": "Python 3",
   "language": "python",
   "name": "python3"
  },
  "language_info": {
   "codemirror_mode": {
    "name": "ipython",
    "version": 3
   },
   "file_extension": ".py",
   "mimetype": "text/x-python",
   "name": "python",
   "nbconvert_exporter": "python",
   "pygments_lexer": "ipython3",
   "version": "3.7.6"
  }
 },
 "nbformat": 4,
 "nbformat_minor": 4
}
